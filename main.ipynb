{
 "cells": [
  {
   "cell_type": "code",
   "execution_count": 102,
   "metadata": {},
   "outputs": [
    {
     "name": "stdout",
     "output_type": "stream",
     "text": [
      "The autoreload extension is already loaded. To reload it, use:\n",
      "  %reload_ext autoreload\n"
     ]
    }
   ],
   "source": [
    "import gymnasium as gym\n",
    "import torch\n",
    "import torch.nn as nn\n",
    "import torch.nn.functional as F\n",
    "import numpy as np\n",
    "import matplotlib.pyplot as plt\n",
    "\n",
    "from training import *\n",
    "from models import *\n",
    "from A2C_agent import *\n",
    "from helpers import *\n",
    "\n",
    "%load_ext autoreload\n",
    "%autoreload 2"
   ]
  },
  {
   "cell_type": "code",
   "execution_count": 103,
   "metadata": {},
   "outputs": [
    {
     "ename": "SyntaxError",
     "evalue": "positional argument follows keyword argument (3368582290.py, line 26)",
     "output_type": "error",
     "traceback": [
      "\u001b[0;36m  Cell \u001b[0;32mIn[103], line 26\u001b[0;36m\u001b[0m\n\u001b[0;31m    action = agent.select_action(worker_id=0, state, policy=\"eps-greedy\")\u001b[0m\n\u001b[0m                                                                        ^\u001b[0m\n\u001b[0;31mSyntaxError\u001b[0m\u001b[0;31m:\u001b[0m positional argument follows keyword argument\n"
     ]
    }
   ],
   "source": [
    "batch_size = 256\n",
    "gamma_ = 0.99\n",
    "num_episodes = 1000\n",
    "max_steps_per_episode = 1000\n",
    "\n",
    "device = device_selection() # mps -> cuda -> cpu\n",
    "\n",
    "# Initialize environment\n",
    "env = gym.make('CartPole-v1') \n",
    "\n",
    "# Initialize agent \n",
    "agent = Agent(input_size=4, hidden_size=64, \\\n",
    "                output_size_actor=2, output_size_critic=1, \\\n",
    "                eps=0.1, gamma=0.99, lr=1e-4, K=1, device=device)\n",
    "\n",
    "# Initialize batch\n",
    "batch = []\n",
    "\n",
    "for episode in range(num_episodes):\n",
    "    state, _ = env.reset()\n",
    "    state = torch.from_numpy(state).float().unsqueeze(0).to(device)  # Convert state to a tensor\n",
    "\n",
    "    episode_reward = 0\n",
    "\n",
    "    for t in range(max_steps_per_episode):\n",
    "        action = agent.select_action(state, worker_id=0, policy=\"eps-greedy\")\n",
    "        print(action)   \n",
    "        next_state, reward, terminated, truncated, _ = env.step(action.item())\n",
    "        next_state = torch.from_numpy(next_state).float().unsqueeze(0).to(device)  # Convert next_state to a tensor\n",
    "\n",
    "\n",
    "        done = terminated or truncated\n",
    "        episode_reward += reward\n",
    "\n",
    "        # Add the experience to the batch\n",
    "        batch.append((state, action, reward, next_state, done))\n",
    "\n",
    "        if len(batch) >= batch_size or done:\n",
    "            # Train the agent\n",
    "            critic_loss, actor_loss = agent.train(batch, agent.gamma, agent.lr)\n",
    "\n",
    "            # Clear the batch\n",
    "            batch.clear()\n",
    "\n",
    "        state = next_state\n",
    "\n",
    "        if done:\n",
    "            break\n",
    "    print(f\"Episode {episode} finished after {t+1} steps with reward {episode_reward:.2f}\")\n",
    "\n"
   ]
  },
  {
   "cell_type": "code",
   "execution_count": null,
   "metadata": {},
   "outputs": [],
   "source": []
  }
 ],
 "metadata": {
  "kernelspec": {
   "display_name": "venv4annrl",
   "language": "python",
   "name": "python3"
  },
  "language_info": {
   "codemirror_mode": {
    "name": "ipython",
    "version": 3
   },
   "file_extension": ".py",
   "mimetype": "text/x-python",
   "name": "python",
   "nbconvert_exporter": "python",
   "pygments_lexer": "ipython3",
   "version": "3.11.3"
  }
 },
 "nbformat": 4,
 "nbformat_minor": 2
}
