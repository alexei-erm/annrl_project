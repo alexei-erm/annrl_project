{
 "cells": [
  {
   "cell_type": "code",
   "execution_count": 160,
   "metadata": {},
   "outputs": [
    {
     "name": "stdout",
     "output_type": "stream",
     "text": [
      "The autoreload extension is already loaded. To reload it, use:\n",
      "  %reload_ext autoreload\n"
     ]
    }
   ],
   "source": [
    "import gymnasium as gym\n",
    "import torch\n",
    "import torch.nn as nn\n",
    "import torch.nn.functional as F\n",
    "import numpy as np\n",
    "import matplotlib.pyplot as plt\n",
    "\n",
    "from training import *\n",
    "from models import *\n",
    "from A2C_agent import *\n",
    "from helpers import *\n",
    "\n",
    "%load_ext autoreload\n",
    "%autoreload 2"
   ]
  },
  {
   "cell_type": "code",
   "execution_count": 161,
   "metadata": {},
   "outputs": [
    {
     "name": "stdout",
     "output_type": "stream",
     "text": [
      "Episode 0 finished after 26 steps with reward 26.00\n",
      "Episode 100 finished after 11 steps with reward 11.00\n",
      "Episode 200 finished after 15 steps with reward 15.00\n",
      "Episode 300 finished after 16 steps with reward 16.00\n",
      "Episode 400 finished after 14 steps with reward 14.00\n",
      "Episode 500 finished after 17 steps with reward 17.00\n",
      "Episode 600 finished after 19 steps with reward 19.00\n",
      "Episode 700 finished after 17 steps with reward 17.00\n",
      "Episode 800 finished after 12 steps with reward 12.00\n",
      "Episode 900 finished after 10 steps with reward 10.00\n"
     ]
    }
   ],
   "source": [
    "batch_size = 256\n",
    "gamma_ = 0.99\n",
    "num_episodes = 1000\n",
    "max_steps_per_episode = 1000\n",
    "\n",
    "device = device_selection() # mps -> cuda -> cpu\n",
    "\n",
    "# Initialize environment\n",
    "env = gym.make('CartPole-v1') \n",
    "\n",
    "# Initialize agent \n",
    "agent = Agent(input_size=4, hidden_size=64, \\\n",
    "                output_size_actor=2, output_size_critic=1, \\\n",
    "                eps=0.1, gamma=0.99, lr=1e-4, K=1, device=device)\n",
    "\n",
    "# Initialize batch\n",
    "batch = []\n",
    "\n",
    "for episode in range(num_episodes):\n",
    "    state, _ = env.reset()\n",
    "    state = torch.from_numpy(state).float().to(device)  # Convert state to a tensor\n",
    "\n",
    "    episode_reward = 0\n",
    "\n",
    "    for t in range(max_steps_per_episode):\n",
    "        action = agent.select_action(state, worker_id=0, policy=\"eps-greedy\")\n",
    "        next_state, reward, terminated, truncated, _ = env.step(action.item())\n",
    "        \n",
    "        next_state = torch.from_numpy(next_state).float().to(device)  # Convert next_state to a tensor\n",
    "        done = terminated or truncated\n",
    "        episode_reward += reward\n",
    "\n",
    "        # Add the experience to the batch\n",
    "        batch.append((state, action, reward, next_state, done))\n",
    "\n",
    "        if len(batch) >= batch_size or done:\n",
    "            # Train the agent\n",
    "            worker_losses = agent.train(batch, agent.gamma, agent.lr, agent.device)\n",
    "\n",
    "            # Clear the batch\n",
    "            batch.clear()\n",
    "\n",
    "        state = next_state\n",
    "        if done:\n",
    "            break\n",
    "\n",
    "    if episode % 100 == 0:\n",
    "        print(f\"Episode {episode} finished after {t+1} steps with reward {episode_reward:.2f}\")\n",
    "\n"
   ]
  },
  {
   "cell_type": "code",
   "execution_count": null,
   "metadata": {},
   "outputs": [],
   "source": []
  },
  {
   "cell_type": "code",
   "execution_count": null,
   "metadata": {},
   "outputs": [],
   "source": []
  }
 ],
 "metadata": {
  "kernelspec": {
   "display_name": "venv4annrl",
   "language": "python",
   "name": "python3"
  },
  "language_info": {
   "codemirror_mode": {
    "name": "ipython",
    "version": 3
   },
   "file_extension": ".py",
   "mimetype": "text/x-python",
   "name": "python",
   "nbconvert_exporter": "python",
   "pygments_lexer": "ipython3",
   "version": "3.11.3"
  }
 },
 "nbformat": 4,
 "nbformat_minor": 2
}
